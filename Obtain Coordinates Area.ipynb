{
 "cells": [
  {
   "cell_type": "code",
   "execution_count": 7,
   "metadata": {},
   "outputs": [],
   "source": [
    "# Import necessary library\n",
    "import cv2\n",
    "\n",
    "# Global variables\n",
    "rect_coords = []  # List to store the coordinates of the rectangle\n",
    "drawing = False  # Flag to indicate whether the user is drawing a rectangle"
   ]
  },
  {
   "cell_type": "code",
   "execution_count": 8,
   "metadata": {},
   "outputs": [],
   "source": [
    "# Callback function to handle mouse events\n",
    "def draw_rectangle(event, x, y, flags, param):\n",
    "    global rect_coords, drawing\n",
    "\n",
    "    if event == cv2.EVENT_LBUTTONDOWN:\n",
    "        # Start of the rectangle: store the initial coordinates and enable drawing\n",
    "        rect_coords = [(x, y)]\n",
    "        drawing = True\n",
    "    elif event == cv2.EVENT_MOUSEMOVE and drawing:\n",
    "        # While the left mouse button is pressed, update the rectangle in real time\n",
    "        img_copy = frame.copy()  # Create a temporary copy of the current frame\n",
    "        cv2.rectangle(img_copy, rect_coords[0], (x, y), (0, 255, 0), 2)  # Draw rectangle\n",
    "        cv2.imshow(\"Video\", img_copy)  # Show the updated frame with the rectangle\n",
    "    elif event == cv2.EVENT_LBUTTONUP:\n",
    "        # End of the rectangle: store the final coordinates and disable drawing\n",
    "        rect_coords.append((x, y))\n",
    "        drawing = False\n",
    "        cv2.rectangle(frame, rect_coords[0], rect_coords[1], (0, 255, 0), 2)  # Draw final rectangle\n",
    "        cv2.imshow(\"Video\", frame)  # Show the final frame with the rectangle\n",
    "        print(f\"Rectangle defined: {rect_coords}\")  # Print rectangle coordinates to the console"
   ]
  },
  {
   "cell_type": "code",
   "execution_count": null,
   "metadata": {},
   "outputs": [],
   "source": [
    "# Load video\n",
    "cap = cv2.VideoCapture(\"./videos/traffic_video.mp4\")  # Replace \"traffic_video.mp4\" with 0 to use the webcam\n",
    "\n",
    "if not cap.isOpened():\n",
    "    print(\"Error opening the video\")\n",
    "    exit()\n",
    "\n",
    "# Create a window and set up the mouse callback function\n",
    "cv2.namedWindow(\"Video\")\n",
    "cv2.setMouseCallback(\"Video\", draw_rectangle)\n",
    "\n",
    "while cap.isOpened():\n",
    "    ret, frame = cap.read()  # Read a frame from the video\n",
    "    if not ret:\n",
    "        print(\"End of video or error reading frame\")\n",
    "        break\n",
    "\n",
    "    cv2.imshow(\"Video\", frame)  # Display the current frame\n",
    "    key = cv2.waitKey(1) & 0xFF  # Wait for a key press\n",
    "    if key == ord('q'):  # Exit the loop if 'q' is pressed\n",
    "        break\n",
    "\n",
    "cap.release()  # Release the video capture object\n",
    "cv2.destroyAllWindows()  # Close all OpenCV windows\n",
    "\n",
    "# If a rectangle was defined, calculate and display its final coordinates\n",
    "if len(rect_coords) == 2:\n",
    "    x1, y1 = rect_coords[0]  # Top-left corner of the rectangle\n",
    "    x2, y2 = rect_coords[1]  # Bottom-right corner of the rectangle\n",
    "    x, y, w, h = x1, y1, abs(x2 - x1), abs(y2 - y1)  # Compute position and size of the rectangle\n",
    "    print(f\"Final rectangle coordinates: x={x}, y={y}, w={w}, h={h}\")"
   ]
  }
 ],
 "metadata": {
  "kernelspec": {
   "display_name": "mi_entorno",
   "language": "python",
   "name": "python3"
  },
  "language_info": {
   "codemirror_mode": {
    "name": "ipython",
    "version": 3
   },
   "file_extension": ".py",
   "mimetype": "text/x-python",
   "name": "python",
   "nbconvert_exporter": "python",
   "pygments_lexer": "ipython3",
   "version": "3.9.20"
  }
 },
 "nbformat": 4,
 "nbformat_minor": 2
}
